{
  "nbformat": 4,
  "nbformat_minor": 0,
  "metadata": {
    "kernelspec": {
      "display_name": "Python 3",
      "language": "python",
      "name": "python3"
    },
    "language_info": {
      "codemirror_mode": {
        "name": "ipython",
        "version": 3
      },
      "file_extension": ".py",
      "mimetype": "text/x-python",
      "name": "python",
      "nbconvert_exporter": "python",
      "pygments_lexer": "ipython3",
      "version": "3.8.5"
    },
    "colab": {
      "name": "classify_electrocardiograms.ipynb",
      "provenance": [],
      "collapsed_sections": [],
      "toc_visible": true,
      "include_colab_link": true
    },
    "accelerator": "TPU"
  },
  "cells": [
    {
      "cell_type": "markdown",
      "metadata": {
        "id": "view-in-github",
        "colab_type": "text"
      },
      "source": [
        "<a href=\"https://colab.research.google.com/github/AurelSann/dotfiles/blob/master/classify_electrocardiograms.ipynb\" target=\"_parent\"><img src=\"https://colab.research.google.com/assets/colab-badge.svg\" alt=\"Open In Colab\"/></a>"
      ]
    },
    {
      "cell_type": "markdown",
      "metadata": {
        "_cell_guid": "79c7e3d0-c299-4dcb-8224-4455121ee9b0",
        "_uuid": "d629ff2d2480ee46fbb7e2d37f6b5fab8052498a",
        "id": "M4N4IiMu8Oer"
      },
      "source": [
        "# Deep Learning - Day 4 - Classify Electrocardiograms\n",
        "\n",
        "### Exercise objectives:\n",
        "- Discover a new type of application with temporal data\n",
        "- Try different recurrent neural networks\n",
        "\n",
        "<hr>\n",
        "<hr>\n",
        "\n",
        "We have seen that RNN are able to predict what happens after an observed sequence of data. Let's see here a different way of using RNN. Instead of predicting a value that occurs after the seen sequence, we will here classify the entire sequence itself, as if the whole sequence corresponds to a given category. \n",
        "\n",
        "# Data\n",
        "\n",
        "The data corresponds to electrocardiograms (ECG), which are basically heart beats. Each sequence is therefore a sequence of amplitudes. These ECG are often used to observe heart malfunctions! In this dataset, there are 87554 heart beats and each corresponds to a heart beat type, from 0 to 4:\n",
        "- 0 : Normal beat\n",
        "- 1 : Supraventricular\n",
        "- 2 : Ventricular\n",
        "- 3 : Fusion\n",
        "- 4 : Beats that cannot be classified\n",
        "\n",
        "\n",
        "❓ **Question** ❓ Download the data from [here](https://storage.googleapis.com/data-sciences-bootcamp/ECG_data.zip), unzip them and read them thanks to the \n",
        "`np.load(path/to/data, allow_pickle=True).tolist()`"
      ]
    },
    {
      "cell_type": "markdown",
      "metadata": {
        "id": "QTmCgnHv8YyE"
      },
      "source": [
        "# Nouvelle section"
      ]
    },
    {
      "cell_type": "markdown",
      "metadata": {
        "id": "_JBzk1wT8Oez"
      },
      "source": [
        "❓ **Question** ❓ Plot one ECG for each category in the dataset to see what an ECG looks like"
      ]
    },
    {
      "cell_type": "code",
      "metadata": {
        "colab": {
          "base_uri": "https://localhost:8080/"
        },
        "id": "wGSNig0i8Oez",
        "outputId": "86117c04-d965-4013-b36c-cb3888b66269"
      },
      "source": [
        "from google.colab import drive\n",
        "drive.mount('/content/drive')"
      ],
      "execution_count": 34,
      "outputs": [
        {
          "output_type": "stream",
          "text": [
            "Drive already mounted at /content/drive; to attempt to forcibly remount, call drive.mount(\"/content/drive\", force_remount=True).\n"
          ],
          "name": "stdout"
        }
      ]
    },
    {
      "cell_type": "code",
      "metadata": {
        "id": "kiygKLrQdsdk"
      },
      "source": [
        "import pandas as pd\n",
        "import numpy as np\n",
        "X = np.load('drive/MyDrive/ECG_data/X.npy',allow_pickle=True).tolist()\n",
        "y = np.load('drive/MyDrive/ECG_data/y.npy',allow_pickle=True).tolist()"
      ],
      "execution_count": 35,
      "outputs": []
    },
    {
      "cell_type": "code",
      "metadata": {
        "id": "dpqOhz5XdtFE"
      },
      "source": [
        ""
      ],
      "execution_count": null,
      "outputs": []
    },
    {
      "cell_type": "markdown",
      "metadata": {
        "id": "nq90QqZq8Oe0"
      },
      "source": [
        "❓ **Question** ❓ You have probably noticed that each sequence (each ECG) has a different length. To corroborate your observation, plot the distribution of the sequence lengths in the dataset."
      ]
    },
    {
      "cell_type": "code",
      "metadata": {
        "id": "K_8HDZdX8Oe0",
        "colab": {
          "base_uri": "https://localhost:8080/",
          "height": 336
        },
        "outputId": "bec74ab3-8e73-43cf-8134-e6149c4603fe"
      },
      "source": [
        "import seaborn as sns\n",
        "sns.distplot([len(X[i]) for i in range(len(X))])"
      ],
      "execution_count": 37,
      "outputs": [
        {
          "output_type": "stream",
          "text": [
            "/usr/local/lib/python3.6/dist-packages/seaborn/distributions.py:2557: FutureWarning: `distplot` is a deprecated function and will be removed in a future version. Please adapt your code to use either `displot` (a figure-level function with similar flexibility) or `histplot` (an axes-level function for histograms).\n",
            "  warnings.warn(msg, FutureWarning)\n"
          ],
          "name": "stderr"
        },
        {
          "output_type": "execute_result",
          "data": {
            "text/plain": [
              "<matplotlib.axes._subplots.AxesSubplot at 0x7fa0df09cd30>"
            ]
          },
          "metadata": {
            "tags": []
          },
          "execution_count": 37
        },
        {
          "output_type": "display_data",
          "data": {
            "image/png": "[encoded data removed]",
            "text/plain": [
              "<Figure size 432x288 with 1 Axes>"
            ]
          },
          "metadata": {
            "tags": [],
            "needs_background": "light"
          }
        }
      ]
    },
    {
      "cell_type": "code",
      "metadata": {
        "id": "WCU-xS37drXq"
      },
      "source": [
        ""
      ],
      "execution_count": 37,
      "outputs": []
    },
    {
      "cell_type": "markdown",
      "metadata": {
        "id": "9kUHe7T38Oe0"
      },
      "source": [
        "\n",
        "\n",
        "You remember that we pass a batch of data to the neural network. Thus, the tensor will have the following shape (batch_size, number of sequences, number of observations per sequence, size of each observation).\n",
        "\n",
        "- The batch_size will be choosen in the model fit\n",
        "- There are 87554 sequences\n",
        "- Each observation is of size 1\n",
        "\n",
        "However, the number of observations per sequence vary from one sequence to another. For computational reasons, this cannot be feed into a RNN. For that reason, you need to \"fill in the blanks\" thanks to the `pad_sequences` so that each sequence is filled with fake values. The resulting sequences will all be of the same length.\n",
        "\n",
        "\n",
        "❓ **Question** ❓ Use the `pad_sequences` function on X directly (without extra arguments here), store the result in `X_pad` and print the first sequence."
      ]
    },
    {
      "cell_type": "code",
      "metadata": {
        "id": "KHGiGXRe8Oe1",
        "colab": {
          "base_uri": "https://localhost:8080/"
        },
        "outputId": "308ef296-b5e4-4280-dfe3-3957601c59a8"
      },
      "source": [
        "from tensorflow.keras.preprocessing.sequence import pad_sequences\n",
        "X_pad = pad_sequences(X, dtype='float32',value =-1,padding='post') \n",
        "X_pad"
      ],
      "execution_count": 38,
      "outputs": [
        {
          "output_type": "execute_result",
          "data": {
            "text/plain": [
              "array([[ 0.97794116,  0.9264706 ,  0.6813725 , ..., -1.        ,\n",
              "        -1.        , -1.        ],\n",
              "       [ 0.96011394,  0.8632479 ,  0.46153846, ..., -1.        ,\n",
              "        -1.        , -1.        ],\n",
              "       [ 1.        ,  0.6594595 ,  0.18648648, ..., -1.        ,\n",
              "        -1.        , -1.        ],\n",
              "       ...,\n",
              "       [ 0.90612245,  0.6244898 ,  0.59591836, ..., -1.        ,\n",
              "        -1.        , -1.        ],\n",
              "       [ 0.85822785,  0.6455696 ,  0.8455696 , ..., -1.        ,\n",
              "        -1.        , -1.        ],\n",
              "       [ 0.90150636,  0.84588647,  0.80069524, ..., -1.        ,\n",
              "        -1.        , -1.        ]], dtype=float32)"
            ]
          },
          "metadata": {
            "tags": []
          },
          "execution_count": 38
        }
      ]
    },
    {
      "cell_type": "markdown",
      "metadata": {
        "id": "NPARySHY8Oe1"
      },
      "source": [
        "❓ **Question** ❓ You probably see that the returned sequence is composed only of 0's. The reason is because, by default, `pad_sequences` returns integers. If a float is between 0.0 and 0.99999, it is converted to 0. To change this default behavior, turn the `dtype` argument of `pad_sequences` to `float32`. Pad once again the sequences, store the new result in `X_pad` and print the first sequence."
      ]
    },
    {
      "cell_type": "code",
      "metadata": {
        "id": "ZfUuEo4R8Oe1"
      },
      "source": [
        "import numpy as np\n",
        "X_pad=np.expand_dims(X_pad,axis=-1)\n",
        "assert(X_pad.shape == (87554, 187, 1))"
      ],
      "execution_count": 39,
      "outputs": []
    },
    {
      "cell_type": "code",
      "metadata": {
        "colab": {
          "base_uri": "https://localhost:8080/"
        },
        "id": "ZOKiZJ-wnY53",
        "outputId": "918b88b6-691a-4099-f7cc-bf482eaa61e7"
      },
      "source": [
        "X_pad"
      ],
      "execution_count": 50,
      "outputs": [
        {
          "output_type": "execute_result",
          "data": {
            "text/plain": [
              "array([[[ 0.97794116],\n",
              "        [ 0.9264706 ],\n",
              "        [ 0.6813725 ],\n",
              "        ...,\n",
              "        [-1.        ],\n",
              "        [-1.        ],\n",
              "        [-1.        ]],\n",
              "\n",
              "       [[ 0.96011394],\n",
              "        [ 0.8632479 ],\n",
              "        [ 0.46153846],\n",
              "        ...,\n",
              "        [-1.        ],\n",
              "        [-1.        ],\n",
              "        [-1.        ]],\n",
              "\n",
              "       [[ 1.        ],\n",
              "        [ 0.6594595 ],\n",
              "        [ 0.18648648],\n",
              "        ...,\n",
              "        [-1.        ],\n",
              "        [-1.        ],\n",
              "        [-1.        ]],\n",
              "\n",
              "       ...,\n",
              "\n",
              "       [[ 0.90612245],\n",
              "        [ 0.6244898 ],\n",
              "        [ 0.59591836],\n",
              "        ...,\n",
              "        [-1.        ],\n",
              "        [-1.        ],\n",
              "        [-1.        ]],\n",
              "\n",
              "       [[ 0.85822785],\n",
              "        [ 0.6455696 ],\n",
              "        [ 0.8455696 ],\n",
              "        ...,\n",
              "        [-1.        ],\n",
              "        [-1.        ],\n",
              "        [-1.        ]],\n",
              "\n",
              "       [[ 0.90150636],\n",
              "        [ 0.84588647],\n",
              "        [ 0.80069524],\n",
              "        ...,\n",
              "        [-1.        ],\n",
              "        [-1.        ],\n",
              "        [-1.        ]]], dtype=float32)"
            ]
          },
          "metadata": {
            "tags": []
          },
          "execution_count": 50
        }
      ]
    },
    {
      "cell_type": "markdown",
      "metadata": {
        "id": "TxFYubC98Oe1"
      },
      "source": [
        "The neural network, thanks to a `Masking` layer, will remove the 0 that you padded for computational reasons. \n",
        "\n",
        "**However**, if you look closely at the padded version of the first sequence, you have the padded zeros at the beginning of the sequence. But, also, there is a 0 value **_IN_** the heart-beat values. \n",
        "How could the neural network know which one to keep and which one to remove?\n",
        "\n",
        "❓ **Question** ❓ Add the `value` keyword in the `pad_sequences` function to pad with values that **ARE NOT** in the initial dataset. Negative values for instance. Store it in `X_pad` and print the first sequence.\n",
        "\n",
        "❗ **Remark** ❗ This is a good habit to pad the values **at the end** of the sequence (instead of the beginning as it is done by default). You can do that thanks to the `padding` keyword set to `post` (instead of `pre` by default).\n",
        "\n",
        "[See full documentation here](https://www.tensorflow.org/api_docs/python/tf/keras/preprocessing/sequence/pad_sequences)"
      ]
    },
    {
      "cell_type": "code",
      "metadata": {
        "id": "OrdGFT3s8Oe2"
      },
      "source": [
        "from tensorflow.keras.utils import to_categorical\n",
        "y_cat = to_categorical(y)"
      ],
      "execution_count": 40,
      "outputs": []
    },
    {
      "cell_type": "markdown",
      "metadata": {
        "id": "zbLaDXa38Oe2"
      },
      "source": [
        "❓ **Question** ❓ Plot the shape of `X_pad`"
      ]
    },
    {
      "cell_type": "code",
      "metadata": {
        "id": "l2tWAf_28Oe2"
      },
      "source": [
        "from sklearn.model_selection import train_test_split\n",
        "X_train,X_test,y_train,y_test =train_test_split(X_pad,y_cat,train_size=0.8)"
      ],
      "execution_count": 54,
      "outputs": []
    },
    {
      "cell_type": "code",
      "metadata": {
        "colab": {
          "base_uri": "https://localhost:8080/"
        },
        "id": "paaSnQ7pneMp",
        "outputId": "890e58f4-ff00-427a-a0ce-5d779b58d26e"
      },
      "source": [
        "type(X_pad)"
      ],
      "execution_count": 51,
      "outputs": [
        {
          "output_type": "execute_result",
          "data": {
            "text/plain": [
              "numpy.ndarray"
            ]
          },
          "metadata": {
            "tags": []
          },
          "execution_count": 51
        }
      ]
    },
    {
      "cell_type": "markdown",
      "metadata": {
        "id": "NSJbFxts8Oe2"
      },
      "source": [
        "Remember that we said that the input data have to be of shape (number of sequences, number of observations per sequence, observation size) [Apart from the batch size dimention which will be automatically added by the Neural Network] ? Here, we only have the two first dimensions. This is because the last dimension is of size 1. \n",
        "\n",
        "❓ **Question** ❓ To remedy this issue, expand the last dimension thanks to the `np.expand_dims` function. \n",
        "\n",
        "❗ **Remark** ❗ The assert should not return any error ;)"
      ]
    },
    {
      "cell_type": "code",
      "metadata": {
        "id": "_kbk3JVO8Oe3"
      },
      "source": [
        "### YOUD CODE HERE\n",
        "\n",
        "assert(X_pad.shape == (87554, 187, 1))"
      ],
      "execution_count": 42,
      "outputs": []
    },
    {
      "cell_type": "markdown",
      "metadata": {
        "_uuid": "c42605d020fd51885437f4af3cf10cebbeafc9bb",
        "id": "4pM2Av_E8Oe3"
      },
      "source": [
        "❓ **Question** ❓ The labels `y` have to be one-hot encoded categories. For that reason, transform them to categories thanks to the appropriate Keras function and store the result in `y_cat`"
      ]
    },
    {
      "cell_type": "code",
      "metadata": {
        "id": "m2DZaEjy8Oe3",
        "colab": {
          "base_uri": "https://localhost:8080/"
        },
        "outputId": "2824fd76-0047-42d3-b765-ed163a0647f2"
      },
      "source": [
        "X_train"
      ],
      "execution_count": 55,
      "outputs": [
        {
          "output_type": "execute_result",
          "data": {
            "text/plain": [
              "array([[[ 0.8603696 ],\n",
              "        [ 0.56057495],\n",
              "        [ 0.16221766],\n",
              "        ...,\n",
              "        [-1.        ],\n",
              "        [-1.        ],\n",
              "        [-1.        ]],\n",
              "\n",
              "       [[ 1.        ],\n",
              "        [ 0.9316667 ],\n",
              "        [ 0.75333333],\n",
              "        ...,\n",
              "        [-1.        ],\n",
              "        [-1.        ],\n",
              "        [-1.        ]],\n",
              "\n",
              "       [[ 0.93786985],\n",
              "        [ 0.8165681 ],\n",
              "        [ 0.30473372],\n",
              "        ...,\n",
              "        [-1.        ],\n",
              "        [-1.        ],\n",
              "        [-1.        ]],\n",
              "\n",
              "       ...,\n",
              "\n",
              "       [[ 0.8126411 ],\n",
              "        [ 0.7325056 ],\n",
              "        [ 0.41647854],\n",
              "        ...,\n",
              "        [-1.        ],\n",
              "        [-1.        ],\n",
              "        [-1.        ]],\n",
              "\n",
              "       [[ 1.        ],\n",
              "        [ 0.8305785 ],\n",
              "        [ 0.42975205],\n",
              "        ...,\n",
              "        [-1.        ],\n",
              "        [-1.        ],\n",
              "        [-1.        ]],\n",
              "\n",
              "       [[ 1.        ],\n",
              "        [ 0.8996139 ],\n",
              "        [ 0.63706565],\n",
              "        ...,\n",
              "        [-1.        ],\n",
              "        [-1.        ],\n",
              "        [-1.        ]]], dtype=float32)"
            ]
          },
          "metadata": {
            "tags": []
          },
          "execution_count": 55
        }
      ]
    },
    {
      "cell_type": "markdown",
      "metadata": {
        "_uuid": "7ae5108c9741b85f0f599cce51daf99df4733ed1",
        "id": "RT4BJUpR8Oe3"
      },
      "source": [
        "❓ **Question** ❓ Split your data between a train and test set (80/20 ratio)."
      ]
    },
    {
      "cell_type": "code",
      "metadata": {
        "_uuid": "cbd350e57b2a44b4bf6a79f02c32dabb803e4855",
        "id": "PQoFh73a8Oe3"
      },
      "source": [
        "### YOUR CODE HERE"
      ],
      "execution_count": 44,
      "outputs": []
    },
    {
      "cell_type": "markdown",
      "metadata": {
        "_uuid": "c4de23b85abe34a726eab268171da0e827bafa35",
        "id": "v5pKRvNL8Oe4"
      },
      "source": [
        "# Model\n",
        "\n",
        "We will now write the Recurrent Neural Network\n",
        "\n",
        "❓ **Question** ❓ Write model that has the following layers:\n",
        "- a Masking layer whose `mask_value` corresponds to the value you decided to pad your data with (it is probably a negative value as suggested) - this layer will simply tell the network not to take into account the computation artifact\n",
        "- a `SimpleRNN` layer with 10 units and the `tanh` as the activation function\n",
        "- a dense layer with 20 units\n",
        "- a last layer"
      ]
    },
    {
      "cell_type": "markdown",
      "metadata": {
        "id": "Z-osR8F18flJ"
      },
      "source": [
        "# Nouvelle section"
      ]
    },
    {
      "cell_type": "code",
      "metadata": {
        "id": "_M8x_UHu8Oe4"
      },
      "source": [
        "from tensorflow.keras.models import Sequential\n",
        "from tensorflow.keras import layers\n",
        "\n",
        "def init_model():\n",
        "    model = Sequential()\n",
        "    model.add(layers.Masking(mask_value=-1))\n",
        "    model.add(layers.SimpleRNN(units=20, activation='tanh')) \n",
        "    model.add(layers.Dense(10, activation=\"relu\"))\n",
        "    model.add(layers.Dense(5,activation='softmax'))\n",
        "    \n",
        "    return model\n"
      ],
      "execution_count": 56,
      "outputs": []
    },
    {
      "cell_type": "code",
      "metadata": {
        "id": "LudncCErfmoc"
      },
      "source": [
        "model = init_model()"
      ],
      "execution_count": 57,
      "outputs": []
    },
    {
      "cell_type": "markdown",
      "metadata": {
        "id": "APE-WyrP8Oe4"
      },
      "source": [
        "❓ **Question** ❓ Compile your model and train it - a very small patience equal to 2 should be sufficient. This is because you have a lot of sequences and thus, many optimizations per epochs. "
      ]
    },
    {
      "cell_type": "code",
      "metadata": {
        "id": "qBphF_Hd8Oe4"
      },
      "source": [
        "model.compile(optimizer='rmsprop',loss='categorical_crossentropy',metrics=['accuracy'])"
      ],
      "execution_count": 58,
      "outputs": []
    },
    {
      "cell_type": "code",
      "metadata": {
        "id": "jF7L28t-f6Nq",
        "colab": {
          "base_uri": "https://localhost:8080/"
        },
        "outputId": "5f7c7600-183d-47af-8e3b-adf333ff6ada"
      },
      "source": [
        "X_train.shape"
      ],
      "execution_count": 59,
      "outputs": [
        {
          "output_type": "execute_result",
          "data": {
            "text/plain": [
              "(70043, 187, 1)"
            ]
          },
          "metadata": {
            "tags": []
          },
          "execution_count": 59
        }
      ]
    },
    {
      "cell_type": "code",
      "metadata": {
        "id": "-_tJy8aSf62a",
        "colab": {
          "base_uri": "https://localhost:8080/"
        },
        "outputId": "ed935a6d-4d6b-457c-f1b5-d2f47fc5b499"
      },
      "source": [
        "from tensorflow.keras.callbacks import EarlyStopping\n",
        "es = EarlyStopping(patience=2,restore_best_weights=True)\n",
        "\n",
        "history = model.fit(X_train,y_train,\n",
        "                   validation_split =0.2,\n",
        "                   callbacks=[es],\n",
        "                   epochs=300, \n",
        "                  batch_size=16,\n",
        "                  verbose=1\n",
        "                  )\n"
      ],
      "execution_count": 60,
      "outputs": [
        {
          "output_type": "stream",
          "text": [
            "Epoch 1/300\n",
            "3503/3503 [==============================] - 171s 48ms/step - loss: 0.6813 - accuracy: 0.8233 - val_loss: 0.6542 - val_accuracy: 0.8303\n",
            "Epoch 2/300\n",
            "3503/3503 [==============================] - 164s 47ms/step - loss: 0.6662 - accuracy: 0.8250 - val_loss: 0.6539 - val_accuracy: 0.8303\n",
            "Epoch 3/300\n",
            "3503/3503 [==============================] - 158s 45ms/step - loss: 0.6559 - accuracy: 0.8289 - val_loss: 0.6492 - val_accuracy: 0.8303\n",
            "Epoch 4/300\n",
            "3503/3503 [==============================] - 162s 46ms/step - loss: 0.6607 - accuracy: 0.8277 - val_loss: 0.6496 - val_accuracy: 0.8303\n",
            "Epoch 5/300\n",
            "3503/3503 [==============================] - 159s 46ms/step - loss: 0.6632 - accuracy: 0.8267 - val_loss: 0.6545 - val_accuracy: 0.8303\n"
          ],
          "name": "stdout"
        }
      ]
    },
    {
      "cell_type": "markdown",
      "metadata": {
        "id": "uQFBmun-8Oe4"
      },
      "source": [
        "❓ **Question** ❓ Evaluate your model on the test data."
      ]
    },
    {
      "cell_type": "code",
      "metadata": {
        "id": "HyndCYQA8Oe4",
        "colab": {
          "base_uri": "https://localhost:8080/"
        },
        "outputId": "7f1bf30b-eecc-43e8-f937-471f04d5ea67"
      },
      "source": [
        "model.evaluate(X_test,y_test)"
      ],
      "execution_count": 61,
      "outputs": [
        {
          "output_type": "stream",
          "text": [
            "548/548 [==============================] - 6s 12ms/step - loss: 0.6618 - accuracy: 0.8263\n"
          ],
          "name": "stdout"
        },
        {
          "output_type": "execute_result",
          "data": {
            "text/plain": [
              "[0.6618326902389526, 0.8262805938720703]"
            ]
          },
          "metadata": {
            "tags": []
          },
          "execution_count": 61
        }
      ]
    },
    {
      "cell_type": "markdown",
      "metadata": {
        "id": "7RifVt8D8Oe5"
      },
      "source": [
        "### You should be have quite promising results with a test accuracy a little higher than 80%, which is a good result on a 5-class problem.\n",
        "\n",
        "❓ **Question** ❓ Let's try to improve this result. Repeat the last steps by using a `LSTM` instead of a `SimpleRNN`. If you feel like it, you can change the neural network parameters to improve the accuracy. Evaluate your accuracy on the test set."
      ]
    },
    {
      "cell_type": "code",
      "metadata": {
        "id": "5lvluwey8Oe5"
      },
      "source": [
        "def init_model2():\n",
        "    model = Sequential()\n",
        "    model.add(layers.Masking(mask_value=-1))\n",
        "    model.add(layers.LSTM(units=20, activation='tanh')) \n",
        "    model.add(layers.Dense(10, activation=\"relu\"))\n",
        "    model.add(layers.Dense(5,activation='softmax'))\n",
        "    \n",
        "    return model"
      ],
      "execution_count": 62,
      "outputs": []
    },
    {
      "cell_type": "code",
      "metadata": {
        "id": "XTBS_lIBrUj8"
      },
      "source": [
        "model2 = init_model2()"
      ],
      "execution_count": 64,
      "outputs": []
    },
    {
      "cell_type": "code",
      "metadata": {
        "id": "8OZ3XpCCrXQK"
      },
      "source": [
        "model2.compile(optimizer='rmsprop',loss='categorical_crossentropy',metrics=['accuracy'])"
      ],
      "execution_count": 67,
      "outputs": []
    },
    {
      "cell_type": "code",
      "metadata": {
        "colab": {
          "base_uri": "https://localhost:8080/"
        },
        "id": "yzzlrmqjrayy",
        "outputId": "b6cc6535-daff-40dc-86d9-c8615231db4e"
      },
      "source": [
        "history = model2.fit(X_train,y_train,\n",
        "                   validation_split =0.2,\n",
        "                   callbacks=[es],\n",
        "                   epochs=300, \n",
        "                  batch_size=16,\n",
        "                  verbose=1\n",
        "                  )"
      ],
      "execution_count": 68,
      "outputs": [
        {
          "output_type": "stream",
          "text": [
            "Epoch 1/300\n",
            "3503/3503 [==============================] - 289s 81ms/step - loss: 0.7726 - accuracy: 0.7868 - val_loss: 0.6524 - val_accuracy: 0.8303\n",
            "Epoch 2/300\n",
            "3503/3503 [==============================] - 285s 81ms/step - loss: 0.6661 - accuracy: 0.8251 - val_loss: 0.6485 - val_accuracy: 0.8303\n",
            "Epoch 3/300\n",
            "3503/3503 [==============================] - 287s 82ms/step - loss: 0.6631 - accuracy: 0.8263 - val_loss: 0.6487 - val_accuracy: 0.8303\n",
            "Epoch 4/300\n",
            "3503/3503 [==============================] - 286s 82ms/step - loss: 0.6514 - accuracy: 0.8302 - val_loss: 0.6484 - val_accuracy: 0.8303\n",
            "Epoch 5/300\n",
            "3503/3503 [==============================] - 284s 81ms/step - loss: 0.6656 - accuracy: 0.8251 - val_loss: 0.6484 - val_accuracy: 0.8303\n",
            "Epoch 6/300\n",
            "3503/3503 [==============================] - 286s 82ms/step - loss: 0.6533 - accuracy: 0.8294 - val_loss: 0.6484 - val_accuracy: 0.8303\n",
            "Epoch 7/300\n",
            "3503/3503 [==============================] - 281s 80ms/step - loss: 0.6727 - accuracy: 0.8222 - val_loss: 0.6490 - val_accuracy: 0.8303\n"
          ],
          "name": "stdout"
        }
      ]
    },
    {
      "cell_type": "markdown",
      "metadata": {
        "id": "EDIDNOfX8Oe5"
      },
      "source": [
        "Quite surprisingly, the LSTM is not much better than the SimpleRNN. What about a GRU?\n",
        "\n",
        "❓ **Question** ❓ Build another model where you will use a GRU (instead of the LSTM or of the SimpleRNN), and the parameters are yours to choose. Report the test accuracy."
      ]
    },
    {
      "cell_type": "code",
      "metadata": {
        "id": "8ao_1Lfq8Oe5",
        "colab": {
          "base_uri": "https://localhost:8080/"
        },
        "outputId": "5538d669-4290-45bd-a3e4-c2a9e4f78e26"
      },
      "source": [
        "model2.evaluate(X_test,y_test)"
      ],
      "execution_count": 69,
      "outputs": [
        {
          "output_type": "stream",
          "text": [
            "548/548 [==============================] - 12s 22ms/step - loss: 0.6613 - accuracy: 0.8263\n"
          ],
          "name": "stdout"
        },
        {
          "output_type": "execute_result",
          "data": {
            "text/plain": [
              "[0.6613496541976929, 0.8262805938720703]"
            ]
          },
          "metadata": {
            "tags": []
          },
          "execution_count": 69
        }
      ]
    },
    {
      "cell_type": "markdown",
      "metadata": {
        "id": "ALqU1zw68Oe5"
      },
      "source": [
        "Once again, the final accuracy is likely to be similar to the one you got previously, which might be a bit strange. To investigate these results, we will compare the results to a baseline model.\n",
        "\n",
        "❓ **Question** ❓ What is the accuracy of a baseline model which would predict, for `y_test`, the most probable category in y_train."
      ]
    },
    {
      "cell_type": "code",
      "metadata": {
        "id": "EcaaDaBA8Oe5"
      },
      "source": [
        "### YOUR CODE HERE"
      ],
      "execution_count": null,
      "outputs": []
    },
    {
      "cell_type": "markdown",
      "metadata": {
        "id": "ITDQgtxL8Oe6"
      },
      "source": [
        "Basically, your RNNs are as good (bad?) as a model that predicts the most present category. The reason is probably because the RNNs really return only the most present category.\n",
        "\n",
        "❓ **Question** ❓ Use the `predict` function on any of the previous model to see what are the different categories the model is predicting."
      ]
    },
    {
      "cell_type": "code",
      "metadata": {
        "id": "xpr9fzTM8Oe6",
        "colab": {
          "base_uri": "https://localhost:8080/"
        },
        "outputId": "3119aff2-e48c-4cec-f439-0a29e9d79279"
      },
      "source": [
        "model2.predict(y_test[76])"
      ],
      "execution_count": 70,
      "outputs": [
        {
          "output_type": "stream",
          "text": [
            "WARNING:tensorflow:Model was constructed with shape (None, 187, 1) for input KerasTensor(type_spec=TensorSpec(shape=(None, 187, 1), dtype=tf.float32, name='masking_6_input'), name='masking_6_input', description=\"created by layer 'masking_6_input'\"), but it was called on an input with incompatible shape (None, 1, 1).\n"
          ],
          "name": "stdout"
        },
        {
          "output_type": "execute_result",
          "data": {
            "text/plain": [
              "array([[0.468283  , 0.12274607, 0.16973774, 0.05387805, 0.18535517],\n",
              "       [0.4510793 , 0.12710065, 0.17174158, 0.06002973, 0.19004877],\n",
              "       [0.4510793 , 0.12710065, 0.17174158, 0.06002973, 0.19004877],\n",
              "       [0.4510793 , 0.12710065, 0.17174158, 0.06002973, 0.19004877],\n",
              "       [0.4510793 , 0.12710065, 0.17174158, 0.06002973, 0.19004877]],\n",
              "      dtype=float32)"
            ]
          },
          "metadata": {
            "tags": []
          },
          "execution_count": 70
        }
      ]
    },
    {
      "cell_type": "markdown",
      "metadata": {
        "id": "moJkTt4Q8Oe6"
      },
      "source": [
        "Your models are returning the category which is the most present in your train set. \n",
        "\n",
        "A possibility here is to either subsample the data to have balanced classes in the training set. Another possibility is to do some data augmentation on temporal data. However, none of these methods would work right away. In fact, predicting the category of ECG data is not an easy task - also, you have only **one** heart-beat, no repetitions of them! \n",
        "\n",
        "Classifying ECG is actually quite a complex task. So let's move on to another exercise. \n",
        "\n",
        "**The lesson here is not to be satisfied with results until you have compare them to a baseline method.**"
      ]
    }
  ]
}